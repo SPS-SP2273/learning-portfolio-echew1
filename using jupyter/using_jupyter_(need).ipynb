{
 "cells": [
  {
   "cell_type": "markdown",
   "id": "123456",
   "metadata": {},
   "source": [
    "<div style=\"text-align:left;font-size:2em\"><span style=\"font-weight:bolder;font-size:1.25em\">SP2273 | Learning Portfolio</span><br><br><span style=\"font-weight:bold;color:darkred\">Using Jupyter (Need)</span></div>"
   ]
  },
  {
   "cell_type": "markdown",
   "id": "a98a70af",
   "metadata": {},
   "source": [
    "## 1 Getting started with Jupyter"
   ]
  },
  {
   "cell_type": "markdown",
   "id": "982f78b5",
   "metadata": {},
   "source": [
    "### 1.1 Its all about running cells"
   ]
  },
  {
   "cell_type": "code",
   "execution_count": null,
   "id": "491c3698",
   "metadata": {},
   "outputs": [],
   "source": [
    "\n",
    "# Your code here\n"
   ]
  },
  {
   "cell_type": "markdown",
   "id": "91331818",
   "metadata": {},
   "source": [
    "### 1.2 A traditional start"
   ]
  },
  {
   "cell_type": "code",
   "execution_count": null,
   "id": "7cfc13df",
   "metadata": {},
   "outputs": [],
   "source": [
    "\n",
    "# Your code here\n"
   ]
  },
  {
   "cell_type": "markdown",
   "id": "bd3d3a82",
   "metadata": {},
   "source": [
    "## 2 All about Markdown"
   ]
  },
  {
   "cell_type": "markdown",
   "id": "93f60825",
   "metadata": {},
   "source": [
    "### 2.1 Rendering Markdown cells"
   ]
  },
  {
   "cell_type": "code",
   "execution_count": null,
   "id": "16f808dc",
   "metadata": {},
   "outputs": [],
   "source": [
    "\n",
    "# Your code here\n"
   ]
  },
  {
   "cell_type": "markdown",
   "id": "aefeaed3",
   "metadata": {},
   "source": [
    "### 2.2 Some basic syntax"
   ]
  },
  {
   "cell_type": "code",
   "execution_count": null,
   "id": "92f17db9",
   "metadata": {},
   "outputs": [],
   "source": [
    "\n",
    "# Your code here\n"
   ]
  },
  {
   "cell_type": "markdown",
   "id": "3c65525d",
   "metadata": {},
   "source": [
    "### 2.3 Headings"
   ]
  },
  {
   "cell_type": "code",
   "execution_count": null,
   "id": "117c2358",
   "metadata": {},
   "outputs": [],
   "source": [
    "\n",
    "# Your code here\n"
   ]
  },
  {
   "cell_type": "markdown",
   "id": "a169bd28",
   "metadata": {},
   "source": [
    "### 2.4 Displaying Code"
   ]
  },
  {
   "cell_type": "code",
   "execution_count": null,
   "id": "a2b21da0",
   "metadata": {},
   "outputs": [],
   "source": [
    "\n",
    "# Your code here\n"
   ]
  },
  {
   "cell_type": "markdown",
   "id": "1dc0409e",
   "metadata": {},
   "source": [
    "### 2.5 Links"
   ]
  },
  {
   "cell_type": "code",
   "execution_count": null,
   "id": "10a2c126",
   "metadata": {},
   "outputs": [],
   "source": [
    "\n",
    "# Your code here\n"
   ]
  },
  {
   "cell_type": "markdown",
   "id": "f76edbbc",
   "metadata": {},
   "source": [
    "### 2.6 Images"
   ]
  },
  {
   "cell_type": "code",
   "execution_count": null,
   "id": "6cc0b564",
   "metadata": {},
   "outputs": [],
   "source": [
    "\n",
    "# Your code here\n"
   ]
  },
  {
   "cell_type": "markdown",
   "id": "74980fbf",
   "metadata": {},
   "source": [
    "### 2.7 Tables"
   ]
  },
  {
   "cell_type": "code",
   "execution_count": null,
   "id": "41bea0f6",
   "metadata": {},
   "outputs": [],
   "source": [
    "\n",
    "# Your code here\n"
   ]
  },
  {
   "cell_type": "markdown",
   "id": "20dd3363",
   "metadata": {},
   "source": [
    "### 2.8 Lists"
   ]
  },
  {
   "cell_type": "markdown",
   "id": "5400f113",
   "metadata": {},
   "source": [
    "\n",
    "\n"
   ]
  },
  {
   "cell_type": "markdown",
   "id": "aa95a453",
   "metadata": {},
   "source": [
    "### 2.9 Equations"
   ]
  },
  {
   "cell_type": "markdown",
   "id": "a962b8ba",
   "metadata": {},
   "source": [
    "$\\sqrt{b^2-4ac}$\n",
    "$$\n",
    "x = \\dfrac{-b \\pm \\sqrt{b^2-4ac}}{2a}\n",
    "$$\n",
    "$\\dfrac{y}{x}$\n",
    "$x_{a}$\n",
    "$x^{(y+z)}$\n",
    "$\\sqrt{a+b+c}$\n",
    "$\\sum_{n=1}^{n=\\infty} x_n$\n",
    "$\\int_{x=1}^{x=\\infty} f(x)dx$\n",
    "a $\\ne$ b\n",
    "$a \\lt b$\n",
    "$a \\leq b$\n",
    "$a \\gt b$\n",
    "$a \\geq b$\n",
    "$\\alpha, \\beta, \\gamma, \\pi, \\lambda$"
   ]
  },
  {
   "cell_type": "markdown",
   "id": "edfa6592",
   "metadata": {},
   "source": [
    "## Exercise 1 :  Put it in Markdown"
   ]
  },
  {
   "cell_type": "markdown",
   "id": "68016a11",
   "metadata": {},
   "source": [
    "**Quadratic Equations**\n",
    "![](https://upload.wikimedia.org/wikipedia/commons/thumb/f/f8/Polynomialdeg2.svg/300px-Polynomialdeg2.svg.png)\n",
    "\n",
    "*(Image from the [Wikipedia page on Quadratic equations](https://en.wikipedia.org/wiki/Quadratic_equation))*\n",
    "\n",
    "**Introduction**\n",
    " \n",
    "The general form of a quadratic equation is:\n",
    "\n",
    "$$\n",
    "ax^2+bx+c=0\n",
    "$$\n",
    "\n",
    "**Solutions** Provided a $\\ne$ 0, we can use an elementary algebraic method called [completeing the square](https://en.wikipedia.org/wiki/Completing_the_square) to show that a quadratic equation has the following solution:\n",
    "\n",
    "$$\n",
    "x = \\dfrac{-b \\pm \\sqrt{b^2-4ac}}{2a}\n",
    "$$\n",
    "\n",
    "**Discriminant**\n",
    "\n",
    "The quantity $\\Delta = b^2-4ac$ is called the **discriminant** of the equation and decides the nature of its solutions. The table below shows the various possibilities.\n",
    "\n",
    "    \n",
    "|**Discriminat**          |**Roots**                           |\n",
    "|:-----:                    |:-----                           |\n",
    "| $$\\Delta = b^2-4ac = 0$$ | A single solution of $-b/(2a)$     |\n",
    "| $$\\Delta = b^2-4ac \\gt 0$$| Two distinct solutions             |\n",
    "| $$\\Delta = b^2-4ac \\lt 0$$| No real solutions; both are complex|\n"
   ]
  },
  {
   "cell_type": "markdown",
   "id": "a63e23b2",
   "metadata": {},
   "source": [
    "## Exercise 2 :  In your own words"
   ]
  },
  {
   "cell_type": "markdown",
   "id": "665a55cb",
   "metadata": {},
   "source": [
    "\n",
    "1. What is a **repository** ?\n",
    "\n",
    "- A repository contains all of your project's files and each file's revision history.\n",
    "\n",
    "2. Git keep tracks of **changes** in the files in our repository\n",
    "\n",
    "3. What is a commit?\n",
    "\n",
    "- Commit is a snapshots or milestones of my repository at a specific point in time.\n",
    "\n",
    "4. What is a push?\n",
    "\n",
    "- Push allow us to sync remote repository to local repository.\n",
    "\n",
    "5. What is the difference between **Github** and **Github Dekstop**?\n",
    "\n",
    "- GitHub is a cloud-based hosting platform for users to manage their Git repositories. While Github Dekstop enables GUI-based interaction so as users can interact better with GitHub. GitHub Dekstop removes a lot of technicalities out of collaborative development.\n",
    "\n",
    "6. Is there an 'opposite' to a **push**?\n",
    "\n",
    "- Yes, its 'fetch'.'Fetch' is used to download contents from remote repository.\n",
    "\n",
    "\n",
    "\n",
    "\n"
   ]
  }
 ],
 "metadata": {
  "kernelspec": {
   "display_name": "Python 3 (ipykernel)",
   "language": "python",
   "name": "python3"
  },
  "language_info": {
   "codemirror_mode": {
    "name": "ipython",
    "version": 3
   },
   "file_extension": ".py",
   "mimetype": "text/x-python",
   "name": "python",
   "nbconvert_exporter": "python",
   "pygments_lexer": "ipython3",
   "version": "3.10.6"
  },
  "toc": {
   "base_numbering": 1,
   "nav_menu": {},
   "number_sections": true,
   "sideBar": true,
   "skip_h1_title": false,
   "title_cell": "Table of Contents",
   "title_sidebar": "Contents",
   "toc_cell": false,
   "toc_position": {},
   "toc_section_display": true,
   "toc_window_display": false
  },
  "varInspector": {
   "cols": {
    "lenName": 16,
    "lenType": 16,
    "lenVar": 40
   },
   "kernels_config": {
    "python": {
     "delete_cmd_postfix": "",
     "delete_cmd_prefix": "del ",
     "library": "var_list.py",
     "varRefreshCmd": "print(var_dic_list())"
    },
    "r": {
     "delete_cmd_postfix": ") ",
     "delete_cmd_prefix": "rm(",
     "library": "var_list.r",
     "varRefreshCmd": "cat(var_dic_list()) "
    }
   },
   "types_to_exclude": [
    "module",
    "function",
    "builtin_function_or_method",
    "instance",
    "_Feature"
   ],
   "window_display": false
  },
  "vscode": {
   "interpreter": {
    "hash": "31f2aee4e71d21fbe5cf8b01ff0e069b9275f58929596ceb00d14d90e3e16cd6"
   }
  }
 },
 "nbformat": 4,
 "nbformat_minor": 5
}
